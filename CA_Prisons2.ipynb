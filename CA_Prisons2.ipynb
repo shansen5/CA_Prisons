{
 "cells": [
  {
   "cell_type": "code",
   "execution_count": null,
   "metadata": {
    "colab": {
     "base_uri": "https://localhost:8080/"
    },
    "id": "HIeMC4Tu3Qxi",
    "outputId": "08537b9c-a3c7-4f61-8f66-631d2a35f3f2",
    "tags": []
   },
   "outputs": [],
   "source": [
    "!git clone https://github.com/edgi-govdata-archiving/ECHO_modules.git\n",
    "!git clone https://github.com/shansen5/CA_Prisons.git\n",
    "print( 'Done!' )"
   ]
  },
  {
   "cell_type": "code",
   "execution_count": null,
   "metadata": {
    "id": "r8eHF1iq3Qxo"
   },
   "outputs": [],
   "source": [
    "%run ECHO_modules/DataSet.py\n",
    "%run ECHO_modules/make_data_sets.py"
   ]
  },
  {
   "cell_type": "markdown",
   "metadata": {
    "id": "xBJ1se-V3Qxo"
   },
   "source": [
    "### 1. Read the local spreadsheet with the carceral facilities"
   ]
  },
  {
   "cell_type": "code",
   "execution_count": null,
   "metadata": {
    "colab": {
     "base_uri": "https://localhost:8080/"
    },
    "id": "Tm7-NxVO3Qxp",
    "outputId": "f1916464-2295-4687-a737-13033291ca25"
   },
   "outputs": [],
   "source": [
    "carc_data  = pd.read_csv( \"CA_Prisons/reformatted_fixed_GG_manual_coding_hifld_prisons_to_FRS.csv\", encoding='iso-8859-1',\n",
    "                 dtype={\"Total_FRS_IDS\": \"Int64\"} )\n",
    "registry_ids = carc_data['Total_FRS_IDS'].dropna().unique()\n",
    "print( \"Number of records in CSV = {}, number of non-NA ids = {}\".format( len(carc_data), len(registry_ids)))\n"
   ]
  },
  {
   "cell_type": "markdown",
   "metadata": {
    "id": "7LPkR6lX3Qxp"
   },
   "source": [
    "### 2. Look up the facilities in ECHO_EXPORTER.  The records found will be written to ECHO_EXPORTER-CA_Carceral.csv."
   ]
  },
  {
   "cell_type": "markdown",
   "metadata": {
    "id": "NNJDApxj3Qxp"
   },
   "source": [
    "If you have run this notebook before and have the ECHO_EXPORTER-CA_Carceral.csv file\n",
    "already generated, you can use the following cell to read it directly and\n",
    "save some time compared to the full database query.  If you don't have the\n",
    "CSV file, skip to the next cell to get the data from the database."
   ]
  },
  {
   "cell_type": "code",
   "execution_count": null,
   "metadata": {
    "colab": {
     "base_uri": "https://localhost:8080/",
     "height": 392
    },
    "id": "k-5xowFW3Qxq",
    "outputId": "711d555a-75f0-4c6b-cac9-ac05e903dcc5"
   },
   "outputs": [],
   "source": [
    "from os.path import exists\n",
    "\n",
    "if ( exists(\"CA_Prisons/ECHO_EXPORTER-CA_Carceral.csv\" )):\n",
    "    echo_data = pd.read_csv( \"CA_Prisons/ECHO_EXPORTER-CA_Carceral.csv\" )\n",
    "    echo_data.set_index( 'REGISTRY_ID', inplace=True)\n",
    "else:\n",
    "    print( \"The file doesn't exist\" )"
   ]
  },
  {
   "cell_type": "markdown",
   "metadata": {},
   "source": [
    "Run this cell in any case."
   ]
  },
  {
   "cell_type": "code",
   "execution_count": null,
   "metadata": {},
   "outputs": [],
   "source": [
    "id_list = []\n",
    "for id in registry_ids:\n",
    "    id_list.append( id )"
   ]
  },
  {
   "cell_type": "markdown",
   "metadata": {},
   "source": [
    "If you don't have the ECHO_EXPORTER-CA_Carceral.csv file from a previous run, use this cell.  It will take some time."
   ]
  },
  {
   "cell_type": "code",
   "execution_count": null,
   "metadata": {
    "colab": {
     "base_uri": "https://localhost:8080/"
    },
    "id": "tkzvq-jM3Qxq",
    "outputId": "84d017c2-f242-4a9a-ee13-e61b8502386c"
   },
   "outputs": [],
   "source": [
    "\n",
    "    \n",
    "ds = DataSet( name=\"exporter\", base_table=\"ECHO_EXPORTER\",\n",
    "            table_name=\"ECHO_EXPORTER\", echo_type=None, idx_field=\"REGISTRY_ID\" )\n",
    "echo_data = ds.get_data_by_ee_ids( id_list )\n",
    "\n",
    "echo_data.to_csv( \"ECHO_EXPORTER-CA_Carceral.csv\")"
   ]
  },
  {
   "cell_type": "markdown",
   "metadata": {
    "id": "L1hmZNY93Qxq"
   },
   "source": [
    "### 3. Look up the facilities in the program data sets.  The records found will be written to CSV files for each data set."
   ]
  },
  {
   "cell_type": "code",
   "execution_count": null,
   "metadata": {
    "colab": {
     "base_uri": "https://localhost:8080/",
     "height": 392
    },
    "id": "FXl-hWCq3Qxq",
    "outputId": "a2766c08-4b4f-401d-f84c-85bb0d85c757",
    "tags": [
     "outputPrepend"
    ]
   },
   "outputs": [],
   "source": [
    "\n",
    "data_set_list = ['RCRA Violations', 'RCRA Inspections', 'RCRA Penalties',\n",
    "                 'CAA Violations', 'CAA Inspections', 'CAA Penalties', \n",
    "                 'Greenhouse Gas Emissions', 'Toxic Releases',\n",
    "                 'CWA Violations', 'CWA Inspections', 'CWA Penalties',\n",
    "                 'SDWA Violations', 'SDWA Serious Violators', 'SDWA Site Visits',\n",
    "                 'SDWA Enforcements', 'SDWA Public Water Systems' ] \n",
    "\n",
    "# You can run an individual data set, or just a few, by un-commenting and\n",
    "# editing the following\n",
    "# data_set_list = ['CWA Violations']\n",
    "data_sets = make_data_sets( data_set_list )\n",
    "\n",
    "last_flag = ''\n",
    "pgm_ids = None\n",
    "for pgm_name,ds in data_sets.items():\n",
    "    print( pgm_name )\n",
    "    if ( ds.echo_type == 'SDWA' ):\n",
    "        echo_flag = 'SDWIS_FLAG'\n",
    "    else:\n",
    "        echo_flag = ds.echo_type + '_FLAG'\n",
    "    # If the flag hasn't changed, the pgm_ids will still be the same.\n",
    "    # Getting the pgm_ids from the echo_data's REGISTRY_ID takes a\n",
    "    # long time, so we skip it if we can.\n",
    "    if ( last_flag != echo_flag ):\n",
    "        r_ids = echo_data[ echo_data[ echo_flag ] == 'Y' ].index\n",
    "        pgm_ids = ds.get_pgm_ids( r_ids )\n",
    "        last_flag = echo_flag\n",
    "    program_data = ds.get_data_by_pgm_ids( pgm_ids )\n",
    "    if ( program_data is not None):\n",
    "        program_data.to_csv( pgm_name+'.csv' )"
   ]
  },
  {
   "cell_type": "markdown",
   "metadata": {
    "id": "lpLAttjz6ebS"
   },
   "source": [
    "Parse out REGISTRY_IDs in order to query ICIS federal enforcement and compliance table"
   ]
  },
  {
   "cell_type": "markdown",
   "metadata": {
    "id": "eUgu4UOoAe5-"
   },
   "source": [
    "Get case numbers based on REGISTRY_IDs"
   ]
  },
  {
   "cell_type": "code",
   "execution_count": null,
   "metadata": {},
   "outputs": [],
   "source": [
    "sql_proto = 'select * from \"CASE_FACILITIES\" where \"REGISTRY_ID\" in ({})'\n",
    "id_string = ''\n",
    "facilities = pd.DataFrame()\n",
    "for pos, row in enumerate( id_list ):\n",
    "    id_string += \"'\" + str( row ) + \"',\"\n",
    "    if pos % 50 == 0:\n",
    "        id_string = id_string[:-1] # Remove trailing comma\n",
    "        sql = sql_proto.format( id_string )\n",
    "        try:\n",
    "            df = get_data( sql )\n",
    "            facilities = pd.concat([ facilities, df ])\n",
    "            print( \"Current number of facilities: {}\".format( len(facilities)))\n",
    "        except pd.errors.EmptyDataError:\n",
    "            print(\"No facilities match!\")\n",
    "        id_string = ''\n",
    "\n",
    "if pos %50 != 0:\n",
    "    try:\n",
    "        df = get_data( sql )\n",
    "        facilities = pd.concat([ facilities, df ])\n",
    "    except pd.errors.EmptyDataError:\n",
    "        print(\"No facilities match!\")\n",
    "\n",
    "facilities"
   ]
  },
  {
   "cell_type": "markdown",
   "metadata": {
    "id": "f2Ap1tQoAiwP"
   },
   "source": [
    "Use case numbers to get enforcement action details"
   ]
  },
  {
   "cell_type": "code",
   "execution_count": null,
   "metadata": {},
   "outputs": [],
   "source": [
    "#separate out case numbers in order to query the CASE_ENFORCEMENTS table\n",
    "sql_proto = 'select * from \"CASE_ENFORCEMENTS\" where \"CASE_NUMBER\" in ({})'\n",
    "cases_list = list(facilities[\"CASE_NUMBER\"].unique())\n",
    "id_string = \"\"\n",
    "actions = pd.DataFrame()\n",
    "for pos, row in enumerate( cases_list ):\n",
    "    id_string += \"'\" + str( row ) + \"',\"\n",
    "    if pos % 50 == 0:\n",
    "        id_string = id_string[:-1] # Remove trailing comma\n",
    "        sql = sql_proto.format( id_string )\n",
    "        try:\n",
    "            df = get_data( sql )\n",
    "            actions = pd.concat([ actions, df ])\n",
    "            print( \"Current number of actions: {}\".format( len(actions)))\n",
    "        except pd.errors.EmptyDataError:\n",
    "            print(\"No actions match!\")\n",
    "        id_string = ''\n",
    "\n",
    "if pos %50 != 0:\n",
    "    try:\n",
    "        df = get_data( sql )\n",
    "        actions = pd.concat([ actions, df ])\n",
    "    except pd.errors.EmptyDataError:\n",
    "        print(\"No facilities match!\")\n",
    "\n",
    "actions.to_csv('additional_enforcements.csv' )\n",
    "actions"
   ]
  },
  {
   "cell_type": "code",
   "execution_count": null,
   "metadata": {
    "id": "ZvAMoB9oAqQn"
   },
   "outputs": [],
   "source": [
    "\"\""
   ]
  }
 ],
 "metadata": {
  "colab": {
   "name": "CA_Prisons2.ipynb",
   "provenance": []
  },
  "kernelspec": {
   "display_name": "Python 3",
   "language": "python",
   "name": "python3"
  },
  "language_info": {
   "codemirror_mode": {
    "name": "ipython",
    "version": 3
   },
   "file_extension": ".py",
   "mimetype": "text/x-python",
   "name": "python",
   "nbconvert_exporter": "python",
   "pygments_lexer": "ipython3",
   "version": "3.8.5"
  }
 },
 "nbformat": 4,
 "nbformat_minor": 4
}
